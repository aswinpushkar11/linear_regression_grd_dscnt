{
 "cells": [
  {
   "cell_type": "code",
   "execution_count": 1,
   "id": "3c159be5-88c2-4e52-824b-e5fcfe9e9624",
   "metadata": {},
   "outputs": [],
   "source": [
    "import numpy as np\n",
    "import matplotlib.pyplot as plt"
   ]
  },
  {
   "cell_type": "code",
   "execution_count": 6,
   "id": "af69c81c-4ee6-4a46-92f2-89c81233e545",
   "metadata": {},
   "outputs": [
    {
     "name": "stdout",
     "output_type": "stream",
     "text": [
      "x_train:\n",
      " [[2104    5    1   45]\n",
      " [1416    3    2   40]\n",
      " [ 852    2    1   35]]\n",
      "y_train:\n",
      " [460 232 178]\n"
     ]
    }
   ],
   "source": [
    "x_train=np.array([[2104,5,1,45],[1416,3,2,40],[852,2,1,35]])\n",
    "y_train=np.array([460,232,178])\n",
    "print('x_train:\\n',x_train)\n",
    "print('y_train:\\n',y_train)"
   ]
  },
  {
   "cell_type": "code",
   "execution_count": 11,
   "id": "022ab635-0681-4751-81ed-68208f4c5eaf",
   "metadata": {},
   "outputs": [
    {
     "name": "stdout",
     "output_type": "stream",
     "text": [
      "The shape of the array x_train:(3, 4), X Type <class 'numpy.ndarray'>\n",
      "[[2104    5    1   45]\n",
      " [1416    3    2   40]\n",
      " [ 852    2    1   35]]\n",
      "The shape of the array x_train:(3,), Y Type <class 'numpy.ndarray'>\n",
      "[460 232 178]\n"
     ]
    }
   ],
   "source": [
    "print(f'The shape of the array x_train:{x_train.shape}, X Type {type(x_train)}')\n",
    "print(x_train)\n",
    "print(f'The shape of the array x_train:{y_train.shape}, Y Type {type(y_train)}')\n",
    "print(y_train)"
   ]
  },
  {
   "cell_type": "code",
   "execution_count": 18,
   "id": "b729903f-2e0f-4126-bd3b-c195310b561f",
   "metadata": {},
   "outputs": [
    {
     "name": "stdout",
     "output_type": "stream",
     "text": [
      "[ 0.00429143 -0.17460021  0.43302619  1.20303737]\n",
      "w_init shape: (4,), b_init type: <class 'float'>\n"
     ]
    }
   ],
   "source": [
    "b_init = 785.1811367994083\n",
    "w_init = np.random.randn(4)\n",
    "print(w_init)\n",
    "print(f\"w_init shape: {w_init.shape}, b_init type: {type(b_init)}\")"
   ]
  },
  {
   "cell_type": "code",
   "execution_count": 20,
   "id": "a78e8d63-9449-4f6b-a968-ca71cc15bc55",
   "metadata": {},
   "outputs": [],
   "source": [
    "def predict_single_loop(x,w,b):\n",
    "    sum=0\n",
    "    for i in range(len(x)):\n",
    "        sum=sum+x[i]*w[i]\n",
    "    sum=sum+b\n",
    "    return sum"
   ]
  },
  {
   "cell_type": "code",
   "execution_count": 22,
   "id": "30b37ec0-8a35-4e4f-934a-99bc32f6e903",
   "metadata": {},
   "outputs": [
    {
     "data": {
      "text/plain": [
       "array([2104,    5,    1,   45])"
      ]
     },
     "execution_count": 22,
     "metadata": {},
     "output_type": "execute_result"
    }
   ],
   "source": [
    "x_vect = x_train[0,:]\n",
    "x_vect"
   ]
  },
  {
   "cell_type": "code",
   "execution_count": 23,
   "id": "87b5cd04-2a32-4bcf-a8bc-296645390851",
   "metadata": {},
   "outputs": [
    {
     "data": {
      "text/plain": [
       "847.9070144431525"
      ]
     },
     "execution_count": 23,
     "metadata": {},
     "output_type": "execute_result"
    }
   ],
   "source": [
    "predict_single_loop(x_vect,w_init,b_init)"
   ]
  },
  {
   "cell_type": "code",
   "execution_count": 24,
   "id": "4e32bbf7-6362-42fe-8997-19a404ac39c4",
   "metadata": {},
   "outputs": [],
   "source": [
    "#dot product\n",
    "def predict(x,w,b):\n",
    "    p=np.dot(x,w)+b\n",
    "    return p\n"
   ]
  },
  {
   "cell_type": "code",
   "execution_count": 25,
   "id": "08a7120e-6104-46a4-80ee-cd57b85cd6ef",
   "metadata": {},
   "outputs": [
    {
     "data": {
      "text/plain": [
       "847.9070144431525"
      ]
     },
     "execution_count": 25,
     "metadata": {},
     "output_type": "execute_result"
    }
   ],
   "source": [
    "predict(x_vect,w_init,b_init)"
   ]
  },
  {
   "cell_type": "code",
   "execution_count": 31,
   "id": "60f48fb9-6612-4f3f-9ae8-048e53c0fc7e",
   "metadata": {},
   "outputs": [],
   "source": [
    "def compute_cost(x,y,w,b):\n",
    "    m=x.shape[0]\n",
    "    cost=0\n",
    "    for i in range(m):\n",
    "        f_wb_i=np.dot(x[i],w)+b\n",
    "        cost=cost+(f_wb_i-y[i])**2\n",
    "    cost=cost/(2*m)\n",
    "    return cost\n",
    "        "
   ]
  },
  {
   "cell_type": "code",
   "execution_count": 32,
   "id": "2e156cd6-3208-44a1-9de2-871605d2e348",
   "metadata": {},
   "outputs": [
    {
     "data": {
      "text/plain": [
       "157707.05679261798"
      ]
     },
     "execution_count": 32,
     "metadata": {},
     "output_type": "execute_result"
    }
   ],
   "source": [
    "compute_cost(x_train,y_train,w_init,b_init)"
   ]
  },
  {
   "cell_type": "code",
   "execution_count": 72,
   "id": "98d1c4b4-e95b-4c2e-b6d7-23c8658416a5",
   "metadata": {},
   "outputs": [],
   "source": [
    "#calculate gradient\n",
    "def compute_gradient(x,y,w,b):\n",
    "    m,n=x.shape\n",
    "    dj_dw=np.zeros((n,))\n",
    "    print('dj_dw:',dj_dw)\n",
    "    dj_db=0\n",
    "    print('dj_db:',dj_db)\n",
    "    for i in range(m):\n",
    "        err = (np.dot(x[i],w)+b)-y[i]\n",
    "        print(f'error:{i}',err)\n",
    "        for j in range(n):\n",
    "            dj_dw[j] = dj_dw[j]+err*x[i,j]\n",
    "            print('dj_dw_loop:',dj_dw)\n",
    "        print('dj_dw:',dj_dw)\n",
    "        dj_db=dj_db+err\n",
    "    dj_dw=dj_dw/m\n",
    "    dj_db=dj_db/m\n",
    "    print('dj_dw:',dj_dw)\n",
    "    print('dj_db:',dj_db)\n",
    "    return dj_db,dj_dw\n",
    "    \n",
    "    "
   ]
  },
  {
   "cell_type": "code",
   "execution_count": 73,
   "id": "9e2e993e-9c6d-42f1-b1c1-47ccf543d44f",
   "metadata": {},
   "outputs": [
    {
     "name": "stdout",
     "output_type": "stream",
     "text": [
      "dj_dw: [0. 0. 0. 0.]\n",
      "dj_db: 0\n",
      "error:0 387.90701444315255\n",
      "dj_dw_loop: [816156.35838839      0.              0.              0.        ]\n",
      "dj_dw_loop: [816156.35838839   1939.53507222      0.              0.        ]\n",
      "dj_dw_loop: [8.16156358e+05 1.93953507e+03 3.87907014e+02 0.00000000e+00]\n",
      "dj_dw_loop: [8.16156358e+05 1.93953507e+03 3.87907014e+02 1.74558156e+04]\n",
      "dj_dw: [8.16156358e+05 1.93953507e+03 3.87907014e+02 1.74558156e+04]\n",
      "error:1 607.7215497026161\n",
      "dj_dw_loop: [1.67669007e+06 1.93953507e+03 3.87907014e+02 1.74558156e+04]\n",
      "dj_dw_loop: [1.67669007e+06 3.76269972e+03 3.87907014e+02 1.74558156e+04]\n",
      "dj_dw_loop: [1.67669007e+06 3.76269972e+03 1.60335011e+03 1.74558156e+04]\n",
      "dj_dw_loop: [1.67669007e+06 3.76269972e+03 1.60335011e+03 4.17646776e+04]\n",
      "dj_dw: [1.67669007e+06 3.76269972e+03 1.60335011e+03 4.17646776e+04]\n",
      "error:2 653.0275698073997\n",
      "dj_dw_loop: [2.23306956e+06 3.76269972e+03 1.60335011e+03 4.17646776e+04]\n",
      "dj_dw_loop: [2.23306956e+06 5.06875486e+03 1.60335011e+03 4.17646776e+04]\n",
      "dj_dw_loop: [2233069.5622432     5068.75486094    2256.37768366   41764.67763805]\n",
      "dj_dw_loop: [2233069.5622432     5068.75486094    2256.37768366   64620.64258131]\n",
      "dj_dw: [2233069.5622432     5068.75486094    2256.37768366   64620.64258131]\n",
      "dj_dw: [744356.52074773   1689.58495365    752.12589455  21540.21419377]\n",
      "dj_db: 549.5520446510561\n"
     ]
    }
   ],
   "source": [
    "dj_db,dj_dw = compute_gradient(x_train,y_train,w_init,b_init)"
   ]
  },
  {
   "cell_type": "code",
   "execution_count": 81,
   "id": "c8760c8d-734a-4258-a565-ba676206067e",
   "metadata": {},
   "outputs": [
    {
     "name": "stdout",
     "output_type": "stream",
     "text": [
      "[-0.36788683 -0.175445    0.43265013  1.19226727]\n",
      "785.1808620233859\n"
     ]
    }
   ],
   "source": [
    "import copy,math\n",
    "J_hist = []\n",
    "# w=w.deepcopy(w_init)\n",
    "b=b_init\n",
    "iterations = 1000\n",
    "alpha = 5.0e-7\n",
    "for i in range(iterations):\n",
    "    w=w_init-alpha*dj_dw\n",
    "    b=b_init-alpha*dj_db\n",
    "print(w)\n",
    "print(b)\n",
    "if i < 1000:\n",
    "    J_History.append(compute_cost(x_train,y_train,w_init,b_init))\n",
    "\n",
    "if i%math.ceil(iterations/10)==0:\n",
    "    print(f'Iterations{i:4d}: Cost {J_hist[-1]:8.2f}')\n"
   ]
  },
  {
   "cell_type": "code",
   "execution_count": 82,
   "id": "3dfea098-eabe-46f4-9395-def56d3fbf9b",
   "metadata": {},
   "outputs": [
    {
     "data": {
      "image/png": "[encoded data removed]",
      "text/plain": [
       "<Figure size 1200x400 with 2 Axes>"
      ]
     },
     "metadata": {},
     "output_type": "display_data"
    }
   ],
   "source": [
    "# plot cost versus iteration  \n",
    "fig, (ax1, ax2) = plt.subplots(1, 2, constrained_layout=True, figsize=(12, 4))\n",
    "ax1.plot(J_hist)\n",
    "ax2.plot(100 + np.arange(len(J_hist[100:])), J_hist[100:])\n",
    "ax1.set_title(\"Cost vs. iteration\");  ax2.set_title(\"Cost vs. iteration (tail)\")\n",
    "ax1.set_ylabel('Cost')             ;  ax2.set_ylabel('Cost') \n",
    "ax1.set_xlabel('iteration step')   ;  ax2.set_xlabel('iteration step') \n",
    "plt.show()"
   ]
  },
  {
   "cell_type": "code",
   "execution_count": null,
   "id": "65915742-f6d9-480c-9c28-0b5ffb0f7ed3",
   "metadata": {},
   "outputs": [],
   "source": []
  }
 ],
 "metadata": {
  "kernelspec": {
   "display_name": "Python 3 (ipykernel)",
   "language": "python",
   "name": "python3"
  },
  "language_info": {
   "codemirror_mode": {
    "name": "ipython",
    "version": 3
   },
   "file_extension": ".py",
   "mimetype": "text/x-python",
   "name": "python",
   "nbconvert_exporter": "python",
   "pygments_lexer": "ipython3",
   "version": "3.12.4"
  }
 },
 "nbformat": 4,
 "nbformat_minor": 5
}
